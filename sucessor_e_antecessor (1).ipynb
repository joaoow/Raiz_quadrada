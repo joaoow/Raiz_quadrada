{
  "nbformat": 4,
  "nbformat_minor": 0,
  "metadata": {
    "colab": {
      "provenance": []
    },
    "kernelspec": {
      "name": "python3",
      "display_name": "Python 3"
    },
    "language_info": {
      "name": "python"
    }
  },
  "cells": [
    {
      "cell_type": "code",
      "source": [
        "from traitlets.config.application import TRAITLETS_APPLICATION_RAISE_CONFIG_FILE_ERROR\n",
        "n = eval(input('Digite um numero: '))\n",
        "dobro = n*2\n",
        "triplo = n*3\n",
        "raiz = n**(1/2)\n",
        "print('O dobro de {} vale {}.'.format(n, dobro))\n",
        "print('O triplo de {} vale {}. \\nA raiz quadrada de {} é igual a {:.2f}'.format(n, triplo, n, raiz))"
      ],
      "metadata": {
        "colab": {
          "base_uri": "https://localhost:8080/"
        },
        "id": "2Fwr_WVjK8Ui",
        "outputId": "55100d0a-af4a-4bef-cdc8-8c48b8c4c809"
      },
      "execution_count": 5,
      "outputs": [
        {
          "output_type": "stream",
          "name": "stdout",
          "text": [
            "Digite um numero: 18\n",
            "O dobro de 18 vale 36.\n",
            "O triplo de 18 vale 54. \n",
            "A raiz quadrada de 18 é igual a 4.24\n"
          ]
        }
      ]
    }
  ]
}